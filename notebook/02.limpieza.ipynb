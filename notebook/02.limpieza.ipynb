{
 "cells": [
  {
   "cell_type": "markdown",
   "id": "63ec884e",
   "metadata": {},
   "source": [
    "## Importación de Librerías"
   ]
  },
  {
   "cell_type": "code",
   "execution_count": 78,
   "id": "234a71e3",
   "metadata": {},
   "outputs": [],
   "source": [
    "import pandas as pd\n",
    "import numpy as np\n",
    "# Visualización de datos\n",
    "import matplotlib.pyplot as plt\n",
    "import seaborn as sns"
   ]
  },
  {
   "cell_type": "markdown",
   "id": "5f2922e2",
   "metadata": {},
   "source": [
    "## Carga de datos"
   ]
  },
  {
   "cell_type": "code",
   "execution_count": 37,
   "id": "a0a195ee",
   "metadata": {},
   "outputs": [],
   "source": [
    "df = pd.read_csv('../data/raw/autorenew.csv', parse_dates=['dateCrawled', 'dateCreated', 'lastSeen']) "
   ]
  },
  {
   "cell_type": "code",
   "execution_count": 38,
   "id": "24728d9f",
   "metadata": {},
   "outputs": [
    {
     "data": {
      "text/html": [
       "<div>\n",
       "<style scoped>\n",
       "    .dataframe tbody tr th:only-of-type {\n",
       "        vertical-align: middle;\n",
       "    }\n",
       "\n",
       "    .dataframe tbody tr th {\n",
       "        vertical-align: top;\n",
       "    }\n",
       "\n",
       "    .dataframe thead th {\n",
       "        text-align: right;\n",
       "    }\n",
       "</style>\n",
       "<table border=\"1\" class=\"dataframe\">\n",
       "  <thead>\n",
       "    <tr style=\"text-align: right;\">\n",
       "      <th></th>\n",
       "      <th>dateCrawled</th>\n",
       "      <th>name</th>\n",
       "      <th>seller</th>\n",
       "      <th>offerType</th>\n",
       "      <th>price</th>\n",
       "      <th>vehicleType</th>\n",
       "      <th>yearOfRegistration</th>\n",
       "      <th>gearbox</th>\n",
       "      <th>powerCV</th>\n",
       "      <th>model</th>\n",
       "      <th>kilometer</th>\n",
       "      <th>monthOfRegistration</th>\n",
       "      <th>fuelType</th>\n",
       "      <th>brand</th>\n",
       "      <th>notRepairedDamage</th>\n",
       "      <th>dateCreated</th>\n",
       "      <th>nrOfPictures</th>\n",
       "      <th>postalCode</th>\n",
       "      <th>lastSeen</th>\n",
       "    </tr>\n",
       "  </thead>\n",
       "  <tbody>\n",
       "    <tr>\n",
       "      <th>0</th>\n",
       "      <td>2016-03-24 11:52:17</td>\n",
       "      <td>Golf_3_1.6</td>\n",
       "      <td>private</td>\n",
       "      <td>offer</td>\n",
       "      <td>480</td>\n",
       "      <td>NaN</td>\n",
       "      <td>1993</td>\n",
       "      <td>manually</td>\n",
       "      <td>0.0</td>\n",
       "      <td>golf</td>\n",
       "      <td>150000</td>\n",
       "      <td>0</td>\n",
       "      <td>petrol</td>\n",
       "      <td>volkswagen</td>\n",
       "      <td>NaN</td>\n",
       "      <td>2016-03-24</td>\n",
       "      <td>0</td>\n",
       "      <td>70435</td>\n",
       "      <td>2016-04-07 03:16:57</td>\n",
       "    </tr>\n",
       "    <tr>\n",
       "      <th>1</th>\n",
       "      <td>2016-03-24 10:58:45</td>\n",
       "      <td>A5_Sportback_2.7_Tdi</td>\n",
       "      <td>private</td>\n",
       "      <td>offer</td>\n",
       "      <td>18300</td>\n",
       "      <td>coupe</td>\n",
       "      <td>2011</td>\n",
       "      <td>manually</td>\n",
       "      <td>187.0</td>\n",
       "      <td>NaN</td>\n",
       "      <td>125000</td>\n",
       "      <td>5</td>\n",
       "      <td>diesel</td>\n",
       "      <td>audi</td>\n",
       "      <td>yes</td>\n",
       "      <td>2016-03-24</td>\n",
       "      <td>0</td>\n",
       "      <td>66954</td>\n",
       "      <td>2016-04-07 01:46:50</td>\n",
       "    </tr>\n",
       "    <tr>\n",
       "      <th>2</th>\n",
       "      <td>2016-03-14 12:52:21</td>\n",
       "      <td>Jeep_Grand_Cherokee_\"Overland\"</td>\n",
       "      <td>private</td>\n",
       "      <td>offer</td>\n",
       "      <td>9800</td>\n",
       "      <td>suv</td>\n",
       "      <td>2004</td>\n",
       "      <td>automatic</td>\n",
       "      <td>161.0</td>\n",
       "      <td>grand</td>\n",
       "      <td>125000</td>\n",
       "      <td>8</td>\n",
       "      <td>diesel</td>\n",
       "      <td>jeep</td>\n",
       "      <td>NaN</td>\n",
       "      <td>2016-03-14</td>\n",
       "      <td>0</td>\n",
       "      <td>90480</td>\n",
       "      <td>2016-04-05 12:47:46</td>\n",
       "    </tr>\n",
       "    <tr>\n",
       "      <th>3</th>\n",
       "      <td>2016-03-17 16:54:04</td>\n",
       "      <td>GOLF_4_1_4__3TÜRER</td>\n",
       "      <td>private</td>\n",
       "      <td>offer</td>\n",
       "      <td>1500</td>\n",
       "      <td>small car</td>\n",
       "      <td>2001</td>\n",
       "      <td>manually</td>\n",
       "      <td>74.0</td>\n",
       "      <td>golf</td>\n",
       "      <td>150000</td>\n",
       "      <td>6</td>\n",
       "      <td>petrol</td>\n",
       "      <td>volkswagen</td>\n",
       "      <td>no</td>\n",
       "      <td>2016-03-17</td>\n",
       "      <td>0</td>\n",
       "      <td>91074</td>\n",
       "      <td>2016-03-17 17:40:17</td>\n",
       "    </tr>\n",
       "    <tr>\n",
       "      <th>4</th>\n",
       "      <td>2016-03-31 17:25:20</td>\n",
       "      <td>Skoda_Fabia_1.4_TDI_PD_Classic</td>\n",
       "      <td>private</td>\n",
       "      <td>offer</td>\n",
       "      <td>3600</td>\n",
       "      <td>small car</td>\n",
       "      <td>2008</td>\n",
       "      <td>manually</td>\n",
       "      <td>68.0</td>\n",
       "      <td>fabia</td>\n",
       "      <td>90000</td>\n",
       "      <td>7</td>\n",
       "      <td>diesel</td>\n",
       "      <td>skoda</td>\n",
       "      <td>no</td>\n",
       "      <td>2016-03-31</td>\n",
       "      <td>0</td>\n",
       "      <td>60437</td>\n",
       "      <td>2016-04-06 10:17:21</td>\n",
       "    </tr>\n",
       "  </tbody>\n",
       "</table>\n",
       "</div>"
      ],
      "text/plain": [
       "          dateCrawled                            name   seller offerType  \\\n",
       "0 2016-03-24 11:52:17                      Golf_3_1.6  private     offer   \n",
       "1 2016-03-24 10:58:45            A5_Sportback_2.7_Tdi  private     offer   \n",
       "2 2016-03-14 12:52:21  Jeep_Grand_Cherokee_\"Overland\"  private     offer   \n",
       "3 2016-03-17 16:54:04              GOLF_4_1_4__3TÜRER  private     offer   \n",
       "4 2016-03-31 17:25:20  Skoda_Fabia_1.4_TDI_PD_Classic  private     offer   \n",
       "\n",
       "   price vehicleType  yearOfRegistration    gearbox  powerCV  model  \\\n",
       "0    480         NaN                1993   manually      0.0   golf   \n",
       "1  18300       coupe                2011   manually    187.0    NaN   \n",
       "2   9800         suv                2004  automatic    161.0  grand   \n",
       "3   1500   small car                2001   manually     74.0   golf   \n",
       "4   3600   small car                2008   manually     68.0  fabia   \n",
       "\n",
       "   kilometer  monthOfRegistration fuelType       brand notRepairedDamage  \\\n",
       "0     150000                    0   petrol  volkswagen               NaN   \n",
       "1     125000                    5   diesel        audi               yes   \n",
       "2     125000                    8   diesel        jeep               NaN   \n",
       "3     150000                    6   petrol  volkswagen                no   \n",
       "4      90000                    7   diesel       skoda                no   \n",
       "\n",
       "  dateCreated  nrOfPictures  postalCode            lastSeen  \n",
       "0  2016-03-24             0       70435 2016-04-07 03:16:57  \n",
       "1  2016-03-24             0       66954 2016-04-07 01:46:50  \n",
       "2  2016-03-14             0       90480 2016-04-05 12:47:46  \n",
       "3  2016-03-17             0       91074 2016-03-17 17:40:17  \n",
       "4  2016-03-31             0       60437 2016-04-06 10:17:21  "
      ]
     },
     "execution_count": 38,
     "metadata": {},
     "output_type": "execute_result"
    }
   ],
   "source": [
    "df.head()"
   ]
  },
  {
   "cell_type": "markdown",
   "id": "bfbf82f2",
   "metadata": {},
   "source": [
    "## Selección de columnas"
   ]
  },
  {
   "cell_type": "markdown",
   "id": "3ec23816",
   "metadata": {},
   "source": [
    "Vamos a eliminar columnas que no nos aporten información relevante para nuestro análisis"
   ]
  },
  {
   "cell_type": "markdown",
   "id": "51f448a7",
   "metadata": {},
   "source": [
    "### Eliminar duplicados"
   ]
  },
  {
   "cell_type": "code",
   "execution_count": 39,
   "id": "b62c5757",
   "metadata": {},
   "outputs": [],
   "source": [
    "df = df.drop_duplicates()"
   ]
  },
  {
   "cell_type": "code",
   "execution_count": 40,
   "id": "eceb8031",
   "metadata": {},
   "outputs": [
    {
     "data": {
      "text/plain": [
       "Index(['dateCrawled', 'name', 'seller', 'offerType', 'price', 'vehicleType',\n",
       "       'yearOfRegistration', 'gearbox', 'powerCV', 'model', 'kilometer',\n",
       "       'monthOfRegistration', 'fuelType', 'brand', 'notRepairedDamage',\n",
       "       'dateCreated', 'nrOfPictures', 'postalCode', 'lastSeen'],\n",
       "      dtype='object')"
      ]
     },
     "execution_count": 40,
     "metadata": {},
     "output_type": "execute_result"
    }
   ],
   "source": [
    "df.columns"
   ]
  },
  {
   "cell_type": "code",
   "execution_count": 41,
   "id": "dd5b57ea",
   "metadata": {},
   "outputs": [],
   "source": [
    "columnas_eliminar = {\n",
    "     'dateCrawled',\n",
    "     'dateCreated',\n",
    "     'lastSeen',\n",
    "     'seller',\n",
    "     'offerType',\n",
    "     'model',\n",
    "     'monthOfRegistration',\n",
    "     'nrOfPictures',\n",
    "     'postalCode'\n",
    "}"
   ]
  },
  {
   "cell_type": "code",
   "execution_count": 42,
   "id": "b8c4b812",
   "metadata": {},
   "outputs": [],
   "source": [
    "df = df.drop(columns=columnas_eliminar)"
   ]
  },
  {
   "cell_type": "code",
   "execution_count": 43,
   "id": "5926b86c",
   "metadata": {},
   "outputs": [
    {
     "data": {
      "text/plain": [
       "np.int64(11622)"
      ]
     },
     "execution_count": 43,
     "metadata": {},
     "output_type": "execute_result"
    }
   ],
   "source": [
    "df.duplicated().sum()"
   ]
  },
  {
   "cell_type": "markdown",
   "id": "d8eace63",
   "metadata": {},
   "source": [
    "Observamos que puede haber duplicados ya que se trate de diferentes unidades del mismo vehículo. Como no tenemos un identificador único como un ID los vamos a dejar."
   ]
  },
  {
   "cell_type": "markdown",
   "id": "cd7246bb",
   "metadata": {},
   "source": [
    "## Limpieza"
   ]
  },
  {
   "cell_type": "markdown",
   "id": "2be82fb1",
   "metadata": {},
   "source": [
    "Vamos a ir columna por columna"
   ]
  },
  {
   "cell_type": "code",
   "execution_count": 44,
   "id": "0832331e",
   "metadata": {},
   "outputs": [
    {
     "data": {
      "text/plain": [
       "Index(['name', 'price', 'vehicleType', 'yearOfRegistration', 'gearbox',\n",
       "       'powerCV', 'kilometer', 'fuelType', 'brand', 'notRepairedDamage'],\n",
       "      dtype='object')"
      ]
     },
     "execution_count": 44,
     "metadata": {},
     "output_type": "execute_result"
    }
   ],
   "source": [
    "df.columns"
   ]
  },
  {
   "cell_type": "markdown",
   "id": "e63d4ff5",
   "metadata": {},
   "source": [
    "### Columna `price`"
   ]
  },
  {
   "cell_type": "code",
   "execution_count": 45,
   "id": "20918774",
   "metadata": {},
   "outputs": [
    {
     "name": "stdout",
     "output_type": "stream",
     "text": [
      "El porcentaje de valores nulos de la columna price es: 0\n"
     ]
    }
   ],
   "source": [
    "print(f\"El porcentaje de valores nulos de la columna price es: {df['price'].isnull().sum()}\")"
   ]
  },
  {
   "cell_type": "markdown",
   "id": "a2fa7a1c",
   "metadata": {},
   "source": [
    "Como no tiene valoresnulos,procedemos a ver qué proporción de vehículos está debajo de cierto umbral. Por ejemplo estaleceremos un umbral de 100(€ presumiblemente)"
   ]
  },
  {
   "cell_type": "code",
   "execution_count": 46,
   "id": "85434762",
   "metadata": {},
   "outputs": [
    {
     "name": "stdout",
     "output_type": "stream",
     "text": [
      "El porcentaje de vehículos por debajo de 100 es: 3.59 %\n"
     ]
    }
   ],
   "source": [
    "umbral_precio_inferior = 100\n",
    "porcentaje_baratos = (df['price'] < umbral_precio_inferior).mean() * 100\n",
    "print(f\"El porcentaje de vehículos por debajo de {umbral_precio_inferior} es: {round(porcentaje_baratos, 2)} %\")"
   ]
  },
  {
   "cell_type": "markdown",
   "id": "a14a2431",
   "metadata": {},
   "source": [
    "Los datos por debajo de 100 son probablemente erróneos y representan el 3,59 % por lo que es razonable eliminarlos"
   ]
  },
  {
   "cell_type": "markdown",
   "id": "e12ed380",
   "metadata": {},
   "source": [
    "A continuación , hacemos lo mismo con un umbral superior a 4M"
   ]
  },
  {
   "cell_type": "code",
   "execution_count": 47,
   "id": "9eb278c8",
   "metadata": {},
   "outputs": [
    {
     "name": "stdout",
     "output_type": "stream",
     "text": [
      "El porcentaje de vehículos por encima de 4000000.0 es: 0.014 %\n"
     ]
    }
   ],
   "source": [
    "umbral_precio_superior = 4e6 # esto quiere decir 4M\n",
    "porcentaje_caros = (df['price'] > umbral_precio_superior).mean() * 100\n",
    "print(f\"El porcentaje de vehículos por encima de {umbral_precio_superior} es: {round(porcentaje_caros, 3)} %\")"
   ]
  },
  {
   "cell_type": "markdown",
   "id": "75c8dcae",
   "metadata": {},
   "source": [
    "Vamos a revisarlo manualmente para ver si tiene sentido"
   ]
  },
  {
   "cell_type": "code",
   "execution_count": 48,
   "id": "a93a352f",
   "metadata": {},
   "outputs": [
    {
     "data": {
      "text/html": [
       "<div>\n",
       "<style scoped>\n",
       "    .dataframe tbody tr th:only-of-type {\n",
       "        vertical-align: middle;\n",
       "    }\n",
       "\n",
       "    .dataframe tbody tr th {\n",
       "        vertical-align: top;\n",
       "    }\n",
       "\n",
       "    .dataframe thead th {\n",
       "        text-align: right;\n",
       "    }\n",
       "</style>\n",
       "<table border=\"1\" class=\"dataframe\">\n",
       "  <thead>\n",
       "    <tr style=\"text-align: right;\">\n",
       "      <th></th>\n",
       "      <th>name</th>\n",
       "      <th>price</th>\n",
       "      <th>vehicleType</th>\n",
       "      <th>yearOfRegistration</th>\n",
       "      <th>gearbox</th>\n",
       "      <th>powerCV</th>\n",
       "      <th>kilometer</th>\n",
       "      <th>fuelType</th>\n",
       "      <th>brand</th>\n",
       "      <th>notRepairedDamage</th>\n",
       "    </tr>\n",
       "  </thead>\n",
       "  <tbody>\n",
       "    <tr>\n",
       "      <th>185227</th>\n",
       "      <td>Suche_fuer_mein_golf</td>\n",
       "      <td>11111111</td>\n",
       "      <td>NaN</td>\n",
       "      <td>2000</td>\n",
       "      <td>NaN</td>\n",
       "      <td>0.0</td>\n",
       "      <td>5000</td>\n",
       "      <td>NaN</td>\n",
       "      <td>volkswagen</td>\n",
       "      <td>NaN</td>\n",
       "    </tr>\n",
       "    <tr>\n",
       "      <th>366653</th>\n",
       "      <td>BMW_E36_Cabrio_tausch_gegen_ein_Opel_Insignia</td>\n",
       "      <td>99999999</td>\n",
       "      <td>convertible</td>\n",
       "      <td>1996</td>\n",
       "      <td>manually</td>\n",
       "      <td>189.0</td>\n",
       "      <td>150000</td>\n",
       "      <td>NaN</td>\n",
       "      <td>bmw</td>\n",
       "      <td>NaN</td>\n",
       "    </tr>\n",
       "    <tr>\n",
       "      <th>121793</th>\n",
       "      <td>Alter_VW_Kaefer_Scheunenfund</td>\n",
       "      <td>10000000</td>\n",
       "      <td>NaN</td>\n",
       "      <td>1910</td>\n",
       "      <td>NaN</td>\n",
       "      <td>0.0</td>\n",
       "      <td>100000</td>\n",
       "      <td>NaN</td>\n",
       "      <td>volkswagen</td>\n",
       "      <td>NaN</td>\n",
       "    </tr>\n",
       "    <tr>\n",
       "      <th>127769</th>\n",
       "      <td>Golf_4_laesst_sich_nicht_oeffnen</td>\n",
       "      <td>11111111</td>\n",
       "      <td>NaN</td>\n",
       "      <td>2003</td>\n",
       "      <td>manually</td>\n",
       "      <td>74.0</td>\n",
       "      <td>125000</td>\n",
       "      <td>petrol</td>\n",
       "      <td>volkswagen</td>\n",
       "      <td>NaN</td>\n",
       "    </tr>\n",
       "    <tr>\n",
       "      <th>87799</th>\n",
       "      <td>Leasinguebernahme</td>\n",
       "      <td>27322222</td>\n",
       "      <td>NaN</td>\n",
       "      <td>2014</td>\n",
       "      <td>manually</td>\n",
       "      <td>161.0</td>\n",
       "      <td>40000</td>\n",
       "      <td>diesel</td>\n",
       "      <td>citroen</td>\n",
       "      <td>NaN</td>\n",
       "    </tr>\n",
       "  </tbody>\n",
       "</table>\n",
       "</div>"
      ],
      "text/plain": [
       "                                                 name     price  vehicleType  \\\n",
       "185227                           Suche_fuer_mein_golf  11111111          NaN   \n",
       "366653  BMW_E36_Cabrio_tausch_gegen_ein_Opel_Insignia  99999999  convertible   \n",
       "121793                   Alter_VW_Kaefer_Scheunenfund  10000000          NaN   \n",
       "127769               Golf_4_laesst_sich_nicht_oeffnen  11111111          NaN   \n",
       "87799                               Leasinguebernahme  27322222          NaN   \n",
       "\n",
       "        yearOfRegistration   gearbox  powerCV  kilometer fuelType       brand  \\\n",
       "185227                2000       NaN      0.0       5000      NaN  volkswagen   \n",
       "366653                1996  manually    189.0     150000      NaN         bmw   \n",
       "121793                1910       NaN      0.0     100000      NaN  volkswagen   \n",
       "127769                2003  manually     74.0     125000   petrol  volkswagen   \n",
       "87799                 2014  manually    161.0      40000   diesel     citroen   \n",
       "\n",
       "       notRepairedDamage  \n",
       "185227               NaN  \n",
       "366653               NaN  \n",
       "121793               NaN  \n",
       "127769               NaN  \n",
       "87799                NaN  "
      ]
     },
     "execution_count": 48,
     "metadata": {},
     "output_type": "execute_result"
    }
   ],
   "source": [
    "df[df['price'] > umbral_precio_superior].sample(5) # es un filtro y por eso va entre corchetes(no es algo que se mencione antes de por qué pongo df[df[col]])"
   ]
  },
  {
   "cell_type": "markdown",
   "id": "b2354a3d",
   "metadata": {},
   "source": [
    "Tras revisar los datos podemos concluir que todos los registros superiores a 4M son erróneos"
   ]
  },
  {
   "cell_type": "code",
   "execution_count": 50,
   "id": "ae82c3a9",
   "metadata": {},
   "outputs": [],
   "source": [
    "filtro_precio = (df['price'] < umbral_precio_superior) & (df['price'] > umbral_precio_inferior)\n",
    "df = df[filtro_precio]"
   ]
  },
  {
   "cell_type": "markdown",
   "id": "6265c30a",
   "metadata": {},
   "source": [
    "### Columna `yearOfRegistration` "
   ]
  },
  {
   "cell_type": "markdown",
   "id": "ff505c99",
   "metadata": {},
   "source": [
    "Tal como vimos con las columnas de fechas de los anuncios, los registros no pueden ser de después de 2016. Sin embargo, vamos a comprobar entradas posteriores a este año."
   ]
  },
  {
   "cell_type": "code",
   "execution_count": 54,
   "id": "fd4ff3ba",
   "metadata": {},
   "outputs": [
    {
     "data": {
      "text/plain": [
       "yearOfRegistration\n",
       "2017    9925\n",
       "2018    3797\n",
       "2019      15\n",
       "9999      14\n",
       "5000      14\n",
       "6000       6\n",
       "9000       4\n",
       "Name: count, dtype: int64"
      ]
     },
     "execution_count": 54,
     "metadata": {},
     "output_type": "execute_result"
    }
   ],
   "source": [
    "df[df['yearOfRegistration'] > 2016]['yearOfRegistration'].value_counts().head(7)"
   ]
  },
  {
   "cell_type": "markdown",
   "id": "97369538",
   "metadata": {},
   "source": [
    "Como vemos, tiene sentido que los años de resgitro correspondan a 2017 y 2018 y es posible que 2019. A parte de eso, el resto de datos son muy probablemente erróneos. ASí que podemos eliminarlos o tratarlos como nulos."
   ]
  },
  {
   "cell_type": "code",
   "execution_count": 56,
   "id": "52245a3a",
   "metadata": {},
   "outputs": [],
   "source": [
    "# Nos quedamos con las entradas que sean anteriores a 2019\n",
    "df = df[df['yearOfRegistration'] < 2019]"
   ]
  },
  {
   "cell_type": "markdown",
   "id": "ec02106b",
   "metadata": {},
   "source": [
    "Veamos qué ocurre ahora con las fechas muy antiguas. Establezcamos un umbral de 1950."
   ]
  },
  {
   "cell_type": "code",
   "execution_count": 63,
   "id": "55f7fffd",
   "metadata": {},
   "outputs": [
    {
     "data": {
      "text/plain": [
       "yearOfRegistration\n",
       "1910    36\n",
       "1000    23\n",
       "1937    12\n",
       "1938     8\n",
       "1929     7\n",
       "Name: count, dtype: int64"
      ]
     },
     "execution_count": 63,
     "metadata": {},
     "output_type": "execute_result"
    }
   ],
   "source": [
    "umbral_fecha = 1950\n",
    "df[df['yearOfRegistration'] < umbral_fecha]['yearOfRegistration'].value_counts().head()"
   ]
  },
  {
   "cell_type": "markdown",
   "id": "686052bc",
   "metadata": {},
   "source": [
    "Vemos que hay 36 registros de 1910 que probablemente se traten de errores. Vamos a ver la distribución gráfica más detallada."
   ]
  },
  {
   "cell_type": "code",
   "execution_count": 65,
   "id": "b9db690d",
   "metadata": {},
   "outputs": [
    {
     "data": {
      "image/png": "[encoded data removed]",
      "text/plain": [
       "<Figure size 800x400 with 1 Axes>"
      ]
     },
     "metadata": {},
     "output_type": "display_data"
    }
   ],
   "source": [
    "plt.figure(figsize=(8, 4))\n",
    "\n",
    "sns.histplot(df['yearOfRegistration'], bins=20, binrange=(1900, 1970))\n",
    "plt.show()"
   ]
  },
  {
   "cell_type": "code",
   "execution_count": 66,
   "id": "90493ad2",
   "metadata": {},
   "outputs": [
    {
     "data": {
      "image/png": "[encoded data removed]",
      "text/plain": [
       "<Figure size 800x400 with 1 Axes>"
      ]
     },
     "metadata": {},
     "output_type": "display_data"
    }
   ],
   "source": [
    "plt.figure(figsize=(8, 4))\n",
    "\n",
    "sns.histplot(df['yearOfRegistration'], bins=20, binrange=(umbral_fecha, 2019))\n",
    "plt.show()"
   ]
  },
  {
   "cell_type": "markdown",
   "id": "294f80b6",
   "metadata": {},
   "source": [
    "Podemos examinar manualmente las entradas más antiguas para comprobar si realmente son errores."
   ]
  },
  {
   "cell_type": "code",
   "execution_count": 67,
   "id": "76eb0dcc",
   "metadata": {},
   "outputs": [
    {
     "data": {
      "text/html": [
       "<div>\n",
       "<style scoped>\n",
       "    .dataframe tbody tr th:only-of-type {\n",
       "        vertical-align: middle;\n",
       "    }\n",
       "\n",
       "    .dataframe tbody tr th {\n",
       "        vertical-align: top;\n",
       "    }\n",
       "\n",
       "    .dataframe thead th {\n",
       "        text-align: right;\n",
       "    }\n",
       "</style>\n",
       "<table border=\"1\" class=\"dataframe\">\n",
       "  <thead>\n",
       "    <tr style=\"text-align: right;\">\n",
       "      <th></th>\n",
       "      <th>name</th>\n",
       "      <th>price</th>\n",
       "      <th>vehicleType</th>\n",
       "      <th>yearOfRegistration</th>\n",
       "      <th>gearbox</th>\n",
       "      <th>powerCV</th>\n",
       "      <th>kilometer</th>\n",
       "      <th>fuelType</th>\n",
       "      <th>brand</th>\n",
       "      <th>notRepairedDamage</th>\n",
       "    </tr>\n",
       "  </thead>\n",
       "  <tbody>\n",
       "    <tr>\n",
       "      <th>17320</th>\n",
       "      <td>Andere_Adler_Trumpf_1_7_AV___sehr_selten__top_...</td>\n",
       "      <td>32000</td>\n",
       "      <td>NaN</td>\n",
       "      <td>1933</td>\n",
       "      <td>manually</td>\n",
       "      <td>37.0</td>\n",
       "      <td>5000</td>\n",
       "      <td>petrol</td>\n",
       "      <td>sonstige_autos</td>\n",
       "      <td>no</td>\n",
       "    </tr>\n",
       "    <tr>\n",
       "      <th>292105</th>\n",
       "      <td>VW_Golf_2_19E_1.8_90ps_neu_ueberholter_Motor_</td>\n",
       "      <td>450</td>\n",
       "      <td>NaN</td>\n",
       "      <td>1500</td>\n",
       "      <td>manually</td>\n",
       "      <td>0.0</td>\n",
       "      <td>5000</td>\n",
       "      <td>NaN</td>\n",
       "      <td>volkswagen</td>\n",
       "      <td>yes</td>\n",
       "    </tr>\n",
       "    <tr>\n",
       "      <th>56160</th>\n",
       "      <td>Polo_86c_TÜV_01.17__sofort_fahrbereit__auch_Ta...</td>\n",
       "      <td>330</td>\n",
       "      <td>NaN</td>\n",
       "      <td>1000</td>\n",
       "      <td>NaN</td>\n",
       "      <td>0.0</td>\n",
       "      <td>5000</td>\n",
       "      <td>NaN</td>\n",
       "      <td>volkswagen</td>\n",
       "      <td>NaN</td>\n",
       "    </tr>\n",
       "    <tr>\n",
       "      <th>16859</th>\n",
       "      <td>Ford_mondeo_mk3_2.0tdc?_tubo_lader</td>\n",
       "      <td>190</td>\n",
       "      <td>NaN</td>\n",
       "      <td>1000</td>\n",
       "      <td>NaN</td>\n",
       "      <td>0.0</td>\n",
       "      <td>5000</td>\n",
       "      <td>NaN</td>\n",
       "      <td>ford</td>\n",
       "      <td>NaN</td>\n",
       "    </tr>\n",
       "    <tr>\n",
       "      <th>286776</th>\n",
       "      <td>Suche_Menschen_mit_Herz_und_Auto_;_</td>\n",
       "      <td>2500</td>\n",
       "      <td>NaN</td>\n",
       "      <td>1910</td>\n",
       "      <td>NaN</td>\n",
       "      <td>0.0</td>\n",
       "      <td>5000</td>\n",
       "      <td>NaN</td>\n",
       "      <td>volkswagen</td>\n",
       "      <td>NaN</td>\n",
       "    </tr>\n",
       "  </tbody>\n",
       "</table>\n",
       "</div>"
      ],
      "text/plain": [
       "                                                     name  price vehicleType  \\\n",
       "17320   Andere_Adler_Trumpf_1_7_AV___sehr_selten__top_...  32000         NaN   \n",
       "292105      VW_Golf_2_19E_1.8_90ps_neu_ueberholter_Motor_    450         NaN   \n",
       "56160   Polo_86c_TÜV_01.17__sofort_fahrbereit__auch_Ta...    330         NaN   \n",
       "16859                  Ford_mondeo_mk3_2.0tdc?_tubo_lader    190         NaN   \n",
       "286776                Suche_Menschen_mit_Herz_und_Auto_;_   2500         NaN   \n",
       "\n",
       "        yearOfRegistration   gearbox  powerCV  kilometer fuelType  \\\n",
       "17320                 1933  manually     37.0       5000   petrol   \n",
       "292105                1500  manually      0.0       5000      NaN   \n",
       "56160                 1000       NaN      0.0       5000      NaN   \n",
       "16859                 1000       NaN      0.0       5000      NaN   \n",
       "286776                1910       NaN      0.0       5000      NaN   \n",
       "\n",
       "                 brand notRepairedDamage  \n",
       "17320   sonstige_autos                no  \n",
       "292105      volkswagen               yes  \n",
       "56160       volkswagen               NaN  \n",
       "16859             ford               NaN  \n",
       "286776      volkswagen               NaN  "
      ]
     },
     "execution_count": 67,
     "metadata": {},
     "output_type": "execute_result"
    }
   ],
   "source": [
    "df[df['yearOfRegistration'] < umbral_fecha].sample(5)"
   ]
  },
  {
   "cell_type": "markdown",
   "id": "e9a1a382",
   "metadata": {},
   "source": [
    "Los datos no tienen mucho sentido ni nos aportan información. Vamos a eliminarlas. También podríamos convertir su año a nulo y luego gestionarlo, pero al ser pocas y tener tan poca información no nos compensa."
   ]
  },
  {
   "cell_type": "code",
   "execution_count": 69,
   "id": "ec22effc",
   "metadata": {},
   "outputs": [],
   "source": [
    "# Nos quedamos con las entradas que sean posteriores a 1950\n",
    "df = df[df['yearOfRegistration'] > umbral_fecha]"
   ]
  },
  {
   "cell_type": "markdown",
   "id": "589318a3",
   "metadata": {},
   "source": [
    "### Columna `powerCV`"
   ]
  },
  {
   "cell_type": "markdown",
   "id": "0c36df27",
   "metadata": {},
   "source": [
    "Un vehículo con potencia mayor a 1200 CV prácticamente no existe. Además, es muy poco frecuente encontrarlo en el rango entre 550CV y 1200CV. Veamos la distribución en este rango."
   ]
  },
  {
   "cell_type": "code",
   "execution_count": 70,
   "id": "d207e2fe",
   "metadata": {},
   "outputs": [
    {
     "data": {
      "image/png": "[encoded data removed]",
      "text/plain": [
       "<Figure size 800x400 with 1 Axes>"
      ]
     },
     "metadata": {},
     "output_type": "display_data"
    }
   ],
   "source": [
    "umbral_superior_cv = 550\n",
    "\n",
    "plt.figure(figsize=(8, 4))\n",
    "\n",
    "sns.histplot(df['powerCV'], bins=20, binrange=(umbral_superior_cv, 1200))\n",
    "plt.show()"
   ]
  },
  {
   "cell_type": "markdown",
   "id": "ea6c87cf",
   "metadata": {},
   "source": [
    "Nos vamos a quedar con los que son menores de 550CV"
   ]
  },
  {
   "cell_type": "code",
   "execution_count": 72,
   "id": "8c8a0357",
   "metadata": {},
   "outputs": [],
   "source": [
    "df = df[df['powerCV'] < umbral_superior_cv]"
   ]
  },
  {
   "cell_type": "code",
   "execution_count": 76,
   "id": "70e8aa2e",
   "metadata": {},
   "outputs": [
    {
     "data": {
      "text/html": [
       "<div>\n",
       "<style scoped>\n",
       "    .dataframe tbody tr th:only-of-type {\n",
       "        vertical-align: middle;\n",
       "    }\n",
       "\n",
       "    .dataframe tbody tr th {\n",
       "        vertical-align: top;\n",
       "    }\n",
       "\n",
       "    .dataframe thead th {\n",
       "        text-align: right;\n",
       "    }\n",
       "</style>\n",
       "<table border=\"1\" class=\"dataframe\">\n",
       "  <thead>\n",
       "    <tr style=\"text-align: right;\">\n",
       "      <th></th>\n",
       "      <th>name</th>\n",
       "      <th>price</th>\n",
       "      <th>vehicleType</th>\n",
       "      <th>yearOfRegistration</th>\n",
       "      <th>gearbox</th>\n",
       "      <th>powerCV</th>\n",
       "      <th>kilometer</th>\n",
       "      <th>fuelType</th>\n",
       "      <th>brand</th>\n",
       "      <th>notRepairedDamage</th>\n",
       "    </tr>\n",
       "  </thead>\n",
       "  <tbody>\n",
       "    <tr>\n",
       "      <th>356190</th>\n",
       "      <td>Renault_Clio_2001</td>\n",
       "      <td>200</td>\n",
       "      <td>small car</td>\n",
       "      <td>2001</td>\n",
       "      <td>manually</td>\n",
       "      <td>0.0</td>\n",
       "      <td>150000</td>\n",
       "      <td>petrol</td>\n",
       "      <td>renault</td>\n",
       "      <td>yes</td>\n",
       "    </tr>\n",
       "    <tr>\n",
       "      <th>202802</th>\n",
       "      <td>Mercedes_Benz_E_220_CDI__mit_TÜV_Getriebeschaden</td>\n",
       "      <td>680</td>\n",
       "      <td>combi</td>\n",
       "      <td>1999</td>\n",
       "      <td>automatic</td>\n",
       "      <td>0.0</td>\n",
       "      <td>150000</td>\n",
       "      <td>diesel</td>\n",
       "      <td>mercedes_benz</td>\n",
       "      <td>yes</td>\n",
       "    </tr>\n",
       "    <tr>\n",
       "      <th>113410</th>\n",
       "      <td>NUR_NOCH_HEUTE___FORD_KA+_SOMMER_UND_WINTER_RE...</td>\n",
       "      <td>350</td>\n",
       "      <td>NaN</td>\n",
       "      <td>2016</td>\n",
       "      <td>manually</td>\n",
       "      <td>0.0</td>\n",
       "      <td>70000</td>\n",
       "      <td>petrol</td>\n",
       "      <td>ford</td>\n",
       "      <td>NaN</td>\n",
       "    </tr>\n",
       "    <tr>\n",
       "      <th>357332</th>\n",
       "      <td>Mercedes_A_klasse_1.6_eventtuel_tausch</td>\n",
       "      <td>1000</td>\n",
       "      <td>small car</td>\n",
       "      <td>1998</td>\n",
       "      <td>manually</td>\n",
       "      <td>0.0</td>\n",
       "      <td>150000</td>\n",
       "      <td>petrol</td>\n",
       "      <td>mercedes_benz</td>\n",
       "      <td>no</td>\n",
       "    </tr>\n",
       "    <tr>\n",
       "      <th>215580</th>\n",
       "      <td>Opel_Zafira_16_V</td>\n",
       "      <td>1200</td>\n",
       "      <td>bus</td>\n",
       "      <td>2000</td>\n",
       "      <td>manually</td>\n",
       "      <td>0.0</td>\n",
       "      <td>150000</td>\n",
       "      <td>NaN</td>\n",
       "      <td>opel</td>\n",
       "      <td>NaN</td>\n",
       "    </tr>\n",
       "  </tbody>\n",
       "</table>\n",
       "</div>"
      ],
      "text/plain": [
       "                                                     name  price vehicleType  \\\n",
       "356190                                  Renault_Clio_2001    200   small car   \n",
       "202802   Mercedes_Benz_E_220_CDI__mit_TÜV_Getriebeschaden    680       combi   \n",
       "113410  NUR_NOCH_HEUTE___FORD_KA+_SOMMER_UND_WINTER_RE...    350         NaN   \n",
       "357332             Mercedes_A_klasse_1.6_eventtuel_tausch   1000   small car   \n",
       "215580                                   Opel_Zafira_16_V   1200         bus   \n",
       "\n",
       "        yearOfRegistration    gearbox  powerCV  kilometer fuelType  \\\n",
       "356190                2001   manually      0.0     150000   petrol   \n",
       "202802                1999  automatic      0.0     150000   diesel   \n",
       "113410                2016   manually      0.0      70000   petrol   \n",
       "357332                1998   manually      0.0     150000   petrol   \n",
       "215580                2000   manually      0.0     150000      NaN   \n",
       "\n",
       "                brand notRepairedDamage  \n",
       "356190        renault               yes  \n",
       "202802  mercedes_benz               yes  \n",
       "113410           ford               NaN  \n",
       "357332  mercedes_benz                no  \n",
       "215580           opel               NaN  "
      ]
     },
     "execution_count": 76,
     "metadata": {},
     "output_type": "execute_result"
    }
   ],
   "source": [
    "# Lo mismo con un umbral inferior de 40 CV\n",
    "df[df['powerCV'] < 40].sample(5)"
   ]
  },
  {
   "cell_type": "markdown",
   "id": "613b3591",
   "metadata": {},
   "source": [
    "Vemos que hay muchas con valores de 0. Vamos a reemplazarlos por nulos porque se trata de una cantidad considerable."
   ]
  },
  {
   "cell_type": "code",
   "execution_count": 79,
   "id": "b6e10c3f",
   "metadata": {},
   "outputs": [],
   "source": [
    "df['powerCV'] = df['powerCV'].apply(lambda x: np.nan if x < 40 else x)"
   ]
  }
 ],
 "metadata": {
  "kernelspec": {
   "display_name": "Python 3",
   "language": "python",
   "name": "python3"
  },
  "language_info": {
   "codemirror_mode": {
    "name": "ipython",
    "version": 3
   },
   "file_extension": ".py",
   "mimetype": "text/x-python",
   "name": "python",
   "nbconvert_exporter": "python",
   "pygments_lexer": "ipython3",
   "version": "3.12.6"
  }
 },
 "nbformat": 4,
 "nbformat_minor": 5
}
