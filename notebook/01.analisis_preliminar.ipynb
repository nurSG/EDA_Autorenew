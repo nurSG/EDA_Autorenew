{
 "cells": [
  {
   "cell_type": "markdown",
   "id": "082c4385",
   "metadata": {},
   "source": [
    "### Importación de Librerías"
   ]
  },
  {
   "cell_type": "code",
   "execution_count": null,
   "id": "26575f13",
   "metadata": {},
   "outputs": [],
   "source": [
    "# Tratameinto de datos\n",
    "import pandas as pd\n",
    "# Visualización de datos\n",
    "import matplotlib.pyplot as plt\n",
    "import seaborn as sns"
   ]
  },
  {
   "cell_type": "markdown",
   "id": "5022b6c8",
   "metadata": {},
   "source": [
    "## Carga de datos"
   ]
  },
  {
   "cell_type": "markdown",
   "id": "0f6a4c6d",
   "metadata": {},
   "source": [
    "Vamos a tratar las columnas de fechas como tipo de dato `datetime` "
   ]
  },
  {
   "cell_type": "code",
   "execution_count": 2,
   "id": "e6306133",
   "metadata": {},
   "outputs": [],
   "source": [
    "df = pd.read_csv('../data/raw/autorenew.csv', parse_dates=['dateCrawled', 'dateCreated', 'lastSeen']) # otra opción para pasar a tipo datetime las fechas"
   ]
  },
  {
   "cell_type": "markdown",
   "id": "5910c3d9",
   "metadata": {},
   "source": [
    "## Análisis preliminar"
   ]
  },
  {
   "cell_type": "code",
   "execution_count": 3,
   "id": "7fe318ad",
   "metadata": {},
   "outputs": [
    {
     "data": {
      "text/html": [
       "<div>\n",
       "<style scoped>\n",
       "    .dataframe tbody tr th:only-of-type {\n",
       "        vertical-align: middle;\n",
       "    }\n",
       "\n",
       "    .dataframe tbody tr th {\n",
       "        vertical-align: top;\n",
       "    }\n",
       "\n",
       "    .dataframe thead th {\n",
       "        text-align: right;\n",
       "    }\n",
       "</style>\n",
       "<table border=\"1\" class=\"dataframe\">\n",
       "  <thead>\n",
       "    <tr style=\"text-align: right;\">\n",
       "      <th></th>\n",
       "      <th>dateCrawled</th>\n",
       "      <th>name</th>\n",
       "      <th>seller</th>\n",
       "      <th>offerType</th>\n",
       "      <th>price</th>\n",
       "      <th>vehicleType</th>\n",
       "      <th>yearOfRegistration</th>\n",
       "      <th>gearbox</th>\n",
       "      <th>powerCV</th>\n",
       "      <th>model</th>\n",
       "      <th>kilometer</th>\n",
       "      <th>monthOfRegistration</th>\n",
       "      <th>fuelType</th>\n",
       "      <th>brand</th>\n",
       "      <th>notRepairedDamage</th>\n",
       "      <th>dateCreated</th>\n",
       "      <th>nrOfPictures</th>\n",
       "      <th>postalCode</th>\n",
       "      <th>lastSeen</th>\n",
       "    </tr>\n",
       "  </thead>\n",
       "  <tbody>\n",
       "    <tr>\n",
       "      <th>371523</th>\n",
       "      <td>2016-03-14 17:48:27</td>\n",
       "      <td>Suche_t4___vito_ab_6_sitze</td>\n",
       "      <td>private</td>\n",
       "      <td>offer</td>\n",
       "      <td>2200</td>\n",
       "      <td>NaN</td>\n",
       "      <td>2005</td>\n",
       "      <td>NaN</td>\n",
       "      <td>0.0</td>\n",
       "      <td>NaN</td>\n",
       "      <td>20000</td>\n",
       "      <td>1</td>\n",
       "      <td>NaN</td>\n",
       "      <td>sonstige_autos</td>\n",
       "      <td>NaN</td>\n",
       "      <td>2016-03-14</td>\n",
       "      <td>0</td>\n",
       "      <td>39576</td>\n",
       "      <td>2016-04-06 00:46:52</td>\n",
       "    </tr>\n",
       "    <tr>\n",
       "      <th>371524</th>\n",
       "      <td>2016-03-05 19:56:21</td>\n",
       "      <td>Smart_smart_leistungssteigerung_100ps</td>\n",
       "      <td>private</td>\n",
       "      <td>offer</td>\n",
       "      <td>1199</td>\n",
       "      <td>convertible</td>\n",
       "      <td>2000</td>\n",
       "      <td>automatic</td>\n",
       "      <td>100.0</td>\n",
       "      <td>fortwo</td>\n",
       "      <td>125000</td>\n",
       "      <td>3</td>\n",
       "      <td>petrol</td>\n",
       "      <td>smart</td>\n",
       "      <td>no</td>\n",
       "      <td>2016-03-05</td>\n",
       "      <td>0</td>\n",
       "      <td>26135</td>\n",
       "      <td>2016-03-11 18:17:12</td>\n",
       "    </tr>\n",
       "    <tr>\n",
       "      <th>371525</th>\n",
       "      <td>2016-03-19 18:57:12</td>\n",
       "      <td>Volkswagen_Multivan_T4_TDI_7DC_UY2</td>\n",
       "      <td>private</td>\n",
       "      <td>offer</td>\n",
       "      <td>9200</td>\n",
       "      <td>bus</td>\n",
       "      <td>1996</td>\n",
       "      <td>manually</td>\n",
       "      <td>101.0</td>\n",
       "      <td>transporter</td>\n",
       "      <td>150000</td>\n",
       "      <td>3</td>\n",
       "      <td>diesel</td>\n",
       "      <td>volkswagen</td>\n",
       "      <td>no</td>\n",
       "      <td>2016-03-19</td>\n",
       "      <td>0</td>\n",
       "      <td>87439</td>\n",
       "      <td>2016-04-07 07:15:26</td>\n",
       "    </tr>\n",
       "    <tr>\n",
       "      <th>371526</th>\n",
       "      <td>2016-03-20 19:41:08</td>\n",
       "      <td>VW_Golf_Kombi_1_9l_TDI</td>\n",
       "      <td>private</td>\n",
       "      <td>offer</td>\n",
       "      <td>3400</td>\n",
       "      <td>combi</td>\n",
       "      <td>2002</td>\n",
       "      <td>manually</td>\n",
       "      <td>99.0</td>\n",
       "      <td>golf</td>\n",
       "      <td>150000</td>\n",
       "      <td>6</td>\n",
       "      <td>diesel</td>\n",
       "      <td>volkswagen</td>\n",
       "      <td>NaN</td>\n",
       "      <td>2016-03-20</td>\n",
       "      <td>0</td>\n",
       "      <td>40764</td>\n",
       "      <td>2016-03-24 12:45:21</td>\n",
       "    </tr>\n",
       "    <tr>\n",
       "      <th>371527</th>\n",
       "      <td>2016-03-07 19:39:19</td>\n",
       "      <td>BMW_M135i_vollausgestattet_NP_52.720____Euro</td>\n",
       "      <td>private</td>\n",
       "      <td>offer</td>\n",
       "      <td>28990</td>\n",
       "      <td>NaN</td>\n",
       "      <td>2013</td>\n",
       "      <td>manually</td>\n",
       "      <td>316.0</td>\n",
       "      <td>m_reihe</td>\n",
       "      <td>50000</td>\n",
       "      <td>8</td>\n",
       "      <td>petrol</td>\n",
       "      <td>bmw</td>\n",
       "      <td>no</td>\n",
       "      <td>2016-03-07</td>\n",
       "      <td>0</td>\n",
       "      <td>73326</td>\n",
       "      <td>2016-03-22 03:17:10</td>\n",
       "    </tr>\n",
       "  </tbody>\n",
       "</table>\n",
       "</div>"
      ],
      "text/plain": [
       "               dateCrawled                                          name  \\\n",
       "371523 2016-03-14 17:48:27                    Suche_t4___vito_ab_6_sitze   \n",
       "371524 2016-03-05 19:56:21         Smart_smart_leistungssteigerung_100ps   \n",
       "371525 2016-03-19 18:57:12            Volkswagen_Multivan_T4_TDI_7DC_UY2   \n",
       "371526 2016-03-20 19:41:08                        VW_Golf_Kombi_1_9l_TDI   \n",
       "371527 2016-03-07 19:39:19  BMW_M135i_vollausgestattet_NP_52.720____Euro   \n",
       "\n",
       "         seller offerType  price  vehicleType  yearOfRegistration    gearbox  \\\n",
       "371523  private     offer   2200          NaN                2005        NaN   \n",
       "371524  private     offer   1199  convertible                2000  automatic   \n",
       "371525  private     offer   9200          bus                1996   manually   \n",
       "371526  private     offer   3400        combi                2002   manually   \n",
       "371527  private     offer  28990          NaN                2013   manually   \n",
       "\n",
       "        powerCV        model  kilometer  monthOfRegistration fuelType  \\\n",
       "371523      0.0          NaN      20000                    1      NaN   \n",
       "371524    100.0       fortwo     125000                    3   petrol   \n",
       "371525    101.0  transporter     150000                    3   diesel   \n",
       "371526     99.0         golf     150000                    6   diesel   \n",
       "371527    316.0      m_reihe      50000                    8   petrol   \n",
       "\n",
       "                 brand notRepairedDamage dateCreated  nrOfPictures  \\\n",
       "371523  sonstige_autos               NaN  2016-03-14             0   \n",
       "371524           smart                no  2016-03-05             0   \n",
       "371525      volkswagen                no  2016-03-19             0   \n",
       "371526      volkswagen               NaN  2016-03-20             0   \n",
       "371527             bmw                no  2016-03-07             0   \n",
       "\n",
       "        postalCode            lastSeen  \n",
       "371523       39576 2016-04-06 00:46:52  \n",
       "371524       26135 2016-03-11 18:17:12  \n",
       "371525       87439 2016-04-07 07:15:26  \n",
       "371526       40764 2016-03-24 12:45:21  \n",
       "371527       73326 2016-03-22 03:17:10  "
      ]
     },
     "execution_count": 3,
     "metadata": {},
     "output_type": "execute_result"
    }
   ],
   "source": [
    "df.tail()"
   ]
  },
  {
   "cell_type": "code",
   "execution_count": 4,
   "id": "2ce82d32",
   "metadata": {},
   "outputs": [
    {
     "name": "stdout",
     "output_type": "stream",
     "text": [
      "<class 'pandas.core.frame.DataFrame'>\n",
      "RangeIndex: 371528 entries, 0 to 371527\n",
      "Data columns (total 19 columns):\n",
      " #   Column               Non-Null Count   Dtype         \n",
      "---  ------               --------------   -----         \n",
      " 0   dateCrawled          371528 non-null  datetime64[ns]\n",
      " 1   name                 371528 non-null  object        \n",
      " 2   seller               371528 non-null  object        \n",
      " 3   offerType            371528 non-null  object        \n",
      " 4   price                371528 non-null  int64         \n",
      " 5   vehicleType          237765 non-null  object        \n",
      " 6   yearOfRegistration   371528 non-null  int64         \n",
      " 7   gearbox              351319 non-null  object        \n",
      " 8   powerCV              371528 non-null  float64       \n",
      " 9   model                351044 non-null  object        \n",
      " 10  kilometer            371528 non-null  int64         \n",
      " 11  monthOfRegistration  371528 non-null  int64         \n",
      " 12  fuelType             338142 non-null  object        \n",
      " 13  brand                371528 non-null  object        \n",
      " 14  notRepairedDamage    299468 non-null  object        \n",
      " 15  dateCreated          371528 non-null  datetime64[ns]\n",
      " 16  nrOfPictures         371528 non-null  int64         \n",
      " 17  postalCode           371528 non-null  int64         \n",
      " 18  lastSeen             371528 non-null  datetime64[ns]\n",
      "dtypes: datetime64[ns](3), float64(1), int64(6), object(9)\n",
      "memory usage: 53.9+ MB\n"
     ]
    }
   ],
   "source": [
    "df.info()"
   ]
  },
  {
   "cell_type": "markdown",
   "id": "a24e6bed",
   "metadata": {},
   "source": [
    "### Análisis de fechas"
   ]
  },
  {
   "cell_type": "markdown",
   "id": "0148692d",
   "metadata": {},
   "source": [
    "Comprobar los valores únicos de los años para las columnas de fechas"
   ]
  },
  {
   "cell_type": "code",
   "execution_count": 5,
   "id": "a50a16a4",
   "metadata": {},
   "outputs": [
    {
     "data": {
      "text/plain": [
       "array([2016], dtype=int32)"
      ]
     },
     "execution_count": 5,
     "metadata": {},
     "output_type": "execute_result"
    }
   ],
   "source": [
    "df['dateCrawled'].dt.year.unique()"
   ]
  },
  {
   "cell_type": "code",
   "execution_count": 6,
   "id": "67860204",
   "metadata": {},
   "outputs": [],
   "source": [
    "columnas_fechas = ['dateCrawled', 'dateCreated', 'lastSeen']"
   ]
  },
  {
   "cell_type": "code",
   "execution_count": 7,
   "id": "290c36ca",
   "metadata": {},
   "outputs": [
    {
     "name": "stdout",
     "output_type": "stream",
     "text": [
      "Los valores únicos de los años para dateCrawled son [2016]\n",
      "Los valores únicos de los años para dateCreated son [2016 2015 2014]\n",
      "Los valores únicos de los años para lastSeen son [2016]\n"
     ]
    }
   ],
   "source": [
    "for col in columnas_fechas:\n",
    "  print(f\"Los valores únicos de los años para {col} son {df[col].dt.year.unique()}\")"
   ]
  },
  {
   "cell_type": "markdown",
   "id": "cb8b66ae",
   "metadata": {},
   "source": [
    "Vemos que los datos se estrajeron exclusivamente en 2016, mientras que los anuncios son únicamnete de entre 2014 y 2016. Pir lo tanto, asumiremos que los vehículos más nuevos son de 2016. Más allá, estas columnas aportar poco valor adicional, así que las eliminaremos."
   ]
  },
  {
   "cell_type": "code",
   "execution_count": 8,
   "id": "4b73802b",
   "metadata": {},
   "outputs": [],
   "source": [
    "df = df.drop(columns=columnas_fechas)"
   ]
  },
  {
   "cell_type": "markdown",
   "id": "7a030e26",
   "metadata": {},
   "source": [
    "## Duplicados"
   ]
  },
  {
   "cell_type": "markdown",
   "id": "a77c8a84",
   "metadata": {},
   "source": [
    "Es posible que un vehículo haya sido registrado múltiples veces en varias fechas"
   ]
  },
  {
   "cell_type": "code",
   "execution_count": 9,
   "id": "fa9fbbe5",
   "metadata": {},
   "outputs": [
    {
     "data": {
      "text/plain": [
       "np.int64(6624)"
      ]
     },
     "execution_count": 9,
     "metadata": {},
     "output_type": "execute_result"
    }
   ],
   "source": [
    "df.duplicated().sum()"
   ]
  },
  {
   "cell_type": "markdown",
   "id": "c70c47eb",
   "metadata": {},
   "source": [
    "Efectivamente hay duplicados. Procedemos a eliminarlos."
   ]
  },
  {
   "cell_type": "code",
   "execution_count": 10,
   "id": "b79c652b",
   "metadata": {},
   "outputs": [],
   "source": [
    "df = df.drop_duplicates()"
   ]
  },
  {
   "cell_type": "markdown",
   "id": "b15d44f4",
   "metadata": {},
   "source": [
    "## Valores nulos"
   ]
  },
  {
   "cell_type": "markdown",
   "id": "71e024d5",
   "metadata": {},
   "source": [
    "Comprobar el total de valores nulos que tenemos"
   ]
  },
  {
   "cell_type": "code",
   "execution_count": 11,
   "id": "fbd44883",
   "metadata": {},
   "outputs": [
    {
     "data": {
      "text/plain": [
       "vehicleType            131462\n",
       "notRepairedDamage       70776\n",
       "fuelType                33084\n",
       "model                   20294\n",
       "gearbox                 19806\n",
       "price                       0\n",
       "name                        0\n",
       "seller                      0\n",
       "powerCV                     0\n",
       "yearOfRegistration          0\n",
       "offerType                   0\n",
       "kilometer                   0\n",
       "monthOfRegistration         0\n",
       "brand                       0\n",
       "nrOfPictures                0\n",
       "postalCode                  0\n",
       "dtype: int64"
      ]
     },
     "execution_count": 11,
     "metadata": {},
     "output_type": "execute_result"
    }
   ],
   "source": [
    "df.isnull().sum().sort_values(ascending=False)"
   ]
  },
  {
   "cell_type": "code",
   "execution_count": 12,
   "id": "7a0a5a36",
   "metadata": {},
   "outputs": [
    {
     "data": {
      "text/plain": [
       "vehicleType          131462\n",
       "gearbox               19806\n",
       "model                 20294\n",
       "fuelType              33084\n",
       "notRepairedDamage     70776\n",
       "dtype: int64"
      ]
     },
     "execution_count": 12,
     "metadata": {},
     "output_type": "execute_result"
    }
   ],
   "source": [
    "nulos = df.isnull().sum()\n",
    "nulos[nulos > 0]"
   ]
  },
  {
   "cell_type": "markdown",
   "id": "1871cfef",
   "metadata": {},
   "source": [
    "Veamos si son muchos o pocos nulos"
   ]
  },
  {
   "cell_type": "code",
   "execution_count": 13,
   "id": "3f14e8f3",
   "metadata": {},
   "outputs": [
    {
     "data": {
      "text/plain": [
       "vehicleType          36.03\n",
       "gearbox               5.43\n",
       "model                 5.56\n",
       "fuelType              9.07\n",
       "notRepairedDamage    19.40\n",
       "dtype: float64"
      ]
     },
     "execution_count": 13,
     "metadata": {},
     "output_type": "execute_result"
    }
   ],
   "source": [
    "nulos_porc = df.isna().mean() * 100\n",
    "nulos_porc[nulos_porc > 0].round(2)"
   ]
  },
  {
   "cell_type": "markdown",
   "id": "423fc01e",
   "metadata": {},
   "source": [
    "Debemos gestionar adecuadamente los nulos, especialmente de columnas criticas como `notRepairedDamage`"
   ]
  },
  {
   "cell_type": "markdown",
   "id": "3c2e5790",
   "metadata": {},
   "source": [
    "## Variables numéricas"
   ]
  },
  {
   "cell_type": "code",
   "execution_count": 14,
   "id": "a7f738b3",
   "metadata": {},
   "outputs": [],
   "source": [
    "columnas_num = df.select_dtypes(include='number').columns"
   ]
  },
  {
   "cell_type": "code",
   "execution_count": 15,
   "id": "e8698fda",
   "metadata": {},
   "outputs": [
    {
     "data": {
      "text/plain": [
       "Index(['price', 'yearOfRegistration', 'powerCV', 'kilometer',\n",
       "       'monthOfRegistration', 'nrOfPictures', 'postalCode'],\n",
       "      dtype='object')"
      ]
     },
     "execution_count": 15,
     "metadata": {},
     "output_type": "execute_result"
    }
   ],
   "source": [
    "columnas_num"
   ]
  },
  {
   "cell_type": "code",
   "execution_count": 16,
   "id": "0db54d77",
   "metadata": {},
   "outputs": [
    {
     "data": {
      "text/html": [
       "<div>\n",
       "<style scoped>\n",
       "    .dataframe tbody tr th:only-of-type {\n",
       "        vertical-align: middle;\n",
       "    }\n",
       "\n",
       "    .dataframe tbody tr th {\n",
       "        vertical-align: top;\n",
       "    }\n",
       "\n",
       "    .dataframe thead th {\n",
       "        text-align: right;\n",
       "    }\n",
       "</style>\n",
       "<table border=\"1\" class=\"dataframe\">\n",
       "  <thead>\n",
       "    <tr style=\"text-align: right;\">\n",
       "      <th></th>\n",
       "      <th>count</th>\n",
       "      <th>mean</th>\n",
       "      <th>std</th>\n",
       "      <th>min</th>\n",
       "      <th>25%</th>\n",
       "      <th>50%</th>\n",
       "      <th>75%</th>\n",
       "      <th>max</th>\n",
       "    </tr>\n",
       "  </thead>\n",
       "  <tbody>\n",
       "    <tr>\n",
       "      <th>price</th>\n",
       "      <td>364904.0</td>\n",
       "      <td>17502.27</td>\n",
       "      <td>3620372.48</td>\n",
       "      <td>0.0</td>\n",
       "      <td>1150.0</td>\n",
       "      <td>2950.0</td>\n",
       "      <td>7150.0</td>\n",
       "      <td>2.147484e+09</td>\n",
       "    </tr>\n",
       "    <tr>\n",
       "      <th>yearOfRegistration</th>\n",
       "      <td>364904.0</td>\n",
       "      <td>2004.58</td>\n",
       "      <td>93.55</td>\n",
       "      <td>1000.0</td>\n",
       "      <td>1999.0</td>\n",
       "      <td>2003.0</td>\n",
       "      <td>2008.0</td>\n",
       "      <td>9.999000e+03</td>\n",
       "    </tr>\n",
       "    <tr>\n",
       "      <th>powerCV</th>\n",
       "      <td>364904.0</td>\n",
       "      <td>113.93</td>\n",
       "      <td>190.97</td>\n",
       "      <td>0.0</td>\n",
       "      <td>69.0</td>\n",
       "      <td>104.0</td>\n",
       "      <td>148.0</td>\n",
       "      <td>1.972600e+04</td>\n",
       "    </tr>\n",
       "    <tr>\n",
       "      <th>kilometer</th>\n",
       "      <td>364904.0</td>\n",
       "      <td>125685.07</td>\n",
       "      <td>40090.32</td>\n",
       "      <td>5000.0</td>\n",
       "      <td>125000.0</td>\n",
       "      <td>150000.0</td>\n",
       "      <td>150000.0</td>\n",
       "      <td>1.500000e+05</td>\n",
       "    </tr>\n",
       "    <tr>\n",
       "      <th>monthOfRegistration</th>\n",
       "      <td>364904.0</td>\n",
       "      <td>5.73</td>\n",
       "      <td>3.71</td>\n",
       "      <td>0.0</td>\n",
       "      <td>3.0</td>\n",
       "      <td>6.0</td>\n",
       "      <td>9.0</td>\n",
       "      <td>1.200000e+01</td>\n",
       "    </tr>\n",
       "    <tr>\n",
       "      <th>nrOfPictures</th>\n",
       "      <td>364904.0</td>\n",
       "      <td>0.00</td>\n",
       "      <td>0.00</td>\n",
       "      <td>0.0</td>\n",
       "      <td>0.0</td>\n",
       "      <td>0.0</td>\n",
       "      <td>0.0</td>\n",
       "      <td>0.000000e+00</td>\n",
       "    </tr>\n",
       "    <tr>\n",
       "      <th>postalCode</th>\n",
       "      <td>364904.0</td>\n",
       "      <td>50944.55</td>\n",
       "      <td>25775.64</td>\n",
       "      <td>1067.0</td>\n",
       "      <td>30655.0</td>\n",
       "      <td>49688.0</td>\n",
       "      <td>71642.0</td>\n",
       "      <td>9.999800e+04</td>\n",
       "    </tr>\n",
       "  </tbody>\n",
       "</table>\n",
       "</div>"
      ],
      "text/plain": [
       "                        count       mean         std     min       25%  \\\n",
       "price                364904.0   17502.27  3620372.48     0.0    1150.0   \n",
       "yearOfRegistration   364904.0    2004.58       93.55  1000.0    1999.0   \n",
       "powerCV              364904.0     113.93      190.97     0.0      69.0   \n",
       "kilometer            364904.0  125685.07    40090.32  5000.0  125000.0   \n",
       "monthOfRegistration  364904.0       5.73        3.71     0.0       3.0   \n",
       "nrOfPictures         364904.0       0.00        0.00     0.0       0.0   \n",
       "postalCode           364904.0   50944.55    25775.64  1067.0   30655.0   \n",
       "\n",
       "                          50%       75%           max  \n",
       "price                  2950.0    7150.0  2.147484e+09  \n",
       "yearOfRegistration     2003.0    2008.0  9.999000e+03  \n",
       "powerCV                 104.0     148.0  1.972600e+04  \n",
       "kilometer            150000.0  150000.0  1.500000e+05  \n",
       "monthOfRegistration       6.0       9.0  1.200000e+01  \n",
       "nrOfPictures              0.0       0.0  0.000000e+00  \n",
       "postalCode            49688.0   71642.0  9.999800e+04  "
      ]
     },
     "execution_count": 16,
     "metadata": {},
     "output_type": "execute_result"
    }
   ],
   "source": [
    "df.describe(include='number').T.round(2)"
   ]
  },
  {
   "cell_type": "markdown",
   "id": "219aa0a4",
   "metadata": {},
   "source": [
    "Observaciones rápidas:\n",
    "- **nrOfPictures**: todas las entradas tienen un valor de 0. La eliminaremos.\n",
    "- **postalCode**: podría tratarse como categórica ya que se trata de códigos postales. Pero no son muy útiles para el análisis ya que no conocemos el país o región al que hacen referencia. Por ello, decidimos eliminarla."
   ]
  },
  {
   "cell_type": "code",
   "execution_count": 17,
   "id": "616cbaf9",
   "metadata": {},
   "outputs": [],
   "source": [
    "df = df.drop(columns=['nrOfPictures', 'postalCode'])"
   ]
  },
  {
   "cell_type": "code",
   "execution_count": 18,
   "id": "309c0029",
   "metadata": {},
   "outputs": [],
   "source": [
    "columnas_num = df.select_dtypes(include='number').columns"
   ]
  },
  {
   "cell_type": "markdown",
   "id": "a612085b",
   "metadata": {},
   "source": [
    "### Histogramas"
   ]
  },
  {
   "cell_type": "code",
   "execution_count": 19,
   "id": "ab167b8f",
   "metadata": {},
   "outputs": [
    {
     "data": {
      "image/png": "[encoded data removed]",
      "text/plain": [
       "<Figure size 640x480 with 1 Axes>"
      ]
     },
     "metadata": {},
     "output_type": "display_data"
    },
    {
     "data": {
      "image/png": "[encoded data removed]",
      "text/plain": [
       "<Figure size 640x480 with 1 Axes>"
      ]
     },
     "metadata": {},
     "output_type": "display_data"
    },
    {
     "data": {
      "image/png": "[encoded data removed]",
      "text/plain": [
       "<Figure size 640x480 with 1 Axes>"
      ]
     },
     "metadata": {},
     "output_type": "display_data"
    },
    {
     "data": {
      "image/png": "[encoded data removed]",
      "text/plain": [
       "<Figure size 640x480 with 1 Axes>"
      ]
     },
     "metadata": {},
     "output_type": "display_data"
    },
    {
     "data": {
      "image/png": "[encoded data removed]",
      "text/plain": [
       "<Figure size 640x480 with 1 Axes>"
      ]
     },
     "metadata": {},
     "output_type": "display_data"
    }
   ],
   "source": [
    "for col in columnas_num:\n",
    "  plt.figure()\n",
    "  sns.histplot(df[col], bins=20)\n",
    "  plt.show()"
   ]
  },
  {
   "cell_type": "markdown",
   "id": "f956b4f3",
   "metadata": {},
   "source": [
    "### Boxplot"
   ]
  },
  {
   "cell_type": "code",
   "execution_count": 20,
   "id": "c7c36bd4",
   "metadata": {},
   "outputs": [
    {
     "data": {
      "image/png": "[encoded data removed]",
      "text/plain": [
       "<Figure size 1000x100 with 1 Axes>"
      ]
     },
     "metadata": {},
     "output_type": "display_data"
    },
    {
     "data": {
      "image/png": "[encoded data removed]",
      "text/plain": [
       "<Figure size 1000x100 with 1 Axes>"
      ]
     },
     "metadata": {},
     "output_type": "display_data"
    },
    {
     "data": {
      "image/png": "[encoded data removed]",
      "text/plain": [
       "<Figure size 1000x100 with 1 Axes>"
      ]
     },
     "metadata": {},
     "output_type": "display_data"
    },
    {
     "data": {
      "image/png": "[encoded data removed]",
      "text/plain": [
       "<Figure size 1000x100 with 1 Axes>"
      ]
     },
     "metadata": {},
     "output_type": "display_data"
    },
    {
     "data": {
      "image/png": "[encoded data removed]",
      "text/plain": [
       "<Figure size 1000x100 with 1 Axes>"
      ]
     },
     "metadata": {},
     "output_type": "display_data"
    }
   ],
   "source": [
    "for col in columnas_num:\n",
    "  plt.figure(figsize=(10, 1))\n",
    "  sns.boxplot(x = df[col])\n",
    "  plt.show()"
   ]
  },
  {
   "cell_type": "markdown",
   "id": "6684ef7e",
   "metadata": {},
   "source": [
    "## Variable Categóricas"
   ]
  },
  {
   "cell_type": "code",
   "execution_count": 21,
   "id": "3442a926",
   "metadata": {},
   "outputs": [
    {
     "data": {
      "text/html": [
       "<div>\n",
       "<style scoped>\n",
       "    .dataframe tbody tr th:only-of-type {\n",
       "        vertical-align: middle;\n",
       "    }\n",
       "\n",
       "    .dataframe tbody tr th {\n",
       "        vertical-align: top;\n",
       "    }\n",
       "\n",
       "    .dataframe thead th {\n",
       "        text-align: right;\n",
       "    }\n",
       "</style>\n",
       "<table border=\"1\" class=\"dataframe\">\n",
       "  <thead>\n",
       "    <tr style=\"text-align: right;\">\n",
       "      <th></th>\n",
       "      <th>count</th>\n",
       "      <th>unique</th>\n",
       "      <th>top</th>\n",
       "      <th>freq</th>\n",
       "    </tr>\n",
       "  </thead>\n",
       "  <tbody>\n",
       "    <tr>\n",
       "      <th>name</th>\n",
       "      <td>364904</td>\n",
       "      <td>233531</td>\n",
       "      <td>Ford_Fiesta</td>\n",
       "      <td>650</td>\n",
       "    </tr>\n",
       "    <tr>\n",
       "      <th>seller</th>\n",
       "      <td>364904</td>\n",
       "      <td>2</td>\n",
       "      <td>private</td>\n",
       "      <td>364901</td>\n",
       "    </tr>\n",
       "    <tr>\n",
       "      <th>offerType</th>\n",
       "      <td>364904</td>\n",
       "      <td>2</td>\n",
       "      <td>offer</td>\n",
       "      <td>364892</td>\n",
       "    </tr>\n",
       "    <tr>\n",
       "      <th>vehicleType</th>\n",
       "      <td>233442</td>\n",
       "      <td>7</td>\n",
       "      <td>small car</td>\n",
       "      <td>78621</td>\n",
       "    </tr>\n",
       "    <tr>\n",
       "      <th>gearbox</th>\n",
       "      <td>345098</td>\n",
       "      <td>2</td>\n",
       "      <td>manually</td>\n",
       "      <td>269737</td>\n",
       "    </tr>\n",
       "    <tr>\n",
       "      <th>model</th>\n",
       "      <td>344610</td>\n",
       "      <td>251</td>\n",
       "      <td>golf</td>\n",
       "      <td>29539</td>\n",
       "    </tr>\n",
       "    <tr>\n",
       "      <th>fuelType</th>\n",
       "      <td>331820</td>\n",
       "      <td>7</td>\n",
       "      <td>petrol</td>\n",
       "      <td>220299</td>\n",
       "    </tr>\n",
       "    <tr>\n",
       "      <th>brand</th>\n",
       "      <td>364904</td>\n",
       "      <td>40</td>\n",
       "      <td>volkswagen</td>\n",
       "      <td>78227</td>\n",
       "    </tr>\n",
       "    <tr>\n",
       "      <th>notRepairedDamage</th>\n",
       "      <td>294128</td>\n",
       "      <td>2</td>\n",
       "      <td>no</td>\n",
       "      <td>258291</td>\n",
       "    </tr>\n",
       "  </tbody>\n",
       "</table>\n",
       "</div>"
      ],
      "text/plain": [
       "                    count  unique          top    freq\n",
       "name               364904  233531  Ford_Fiesta     650\n",
       "seller             364904       2      private  364901\n",
       "offerType          364904       2        offer  364892\n",
       "vehicleType        233442       7    small car   78621\n",
       "gearbox            345098       2     manually  269737\n",
       "model              344610     251         golf   29539\n",
       "fuelType           331820       7       petrol  220299\n",
       "brand              364904      40   volkswagen   78227\n",
       "notRepairedDamage  294128       2           no  258291"
      ]
     },
     "execution_count": 21,
     "metadata": {},
     "output_type": "execute_result"
    }
   ],
   "source": [
    "df.describe(include=['object','category']).T"
   ]
  },
  {
   "cell_type": "code",
   "execution_count": 22,
   "id": "6673e270",
   "metadata": {},
   "outputs": [
    {
     "data": {
      "text/plain": [
       "Index(['name', 'seller', 'offerType', 'vehicleType', 'gearbox', 'model',\n",
       "       'fuelType', 'brand', 'notRepairedDamage'],\n",
       "      dtype='object')"
      ]
     },
     "execution_count": 22,
     "metadata": {},
     "output_type": "execute_result"
    }
   ],
   "source": [
    "col_cat = df.select_dtypes(include=['object','category']).columns\n",
    "col_cat"
   ]
  },
  {
   "cell_type": "code",
   "execution_count": 23,
   "id": "e5b63483",
   "metadata": {},
   "outputs": [
    {
     "name": "stdout",
     "output_type": "stream",
     "text": [
      "La columna NAME tiene un total de 233531 valores distintos\n",
      "Los 10 valores más repetidos son:\n"
     ]
    },
    {
     "data": {
      "text/plain": [
       "name\n",
       "Ford_Fiesta            650\n",
       "BMW_318i               623\n",
       "Opel_Corsa             614\n",
       "Volkswagen_Golf_1.4    598\n",
       "BMW_316i               515\n",
       "BMW_320i               490\n",
       "Volkswagen_Polo        471\n",
       "Renault_Twingo         444\n",
       "Volkswagen_Golf        427\n",
       "Volkswagen_Golf_1.6    411\n",
       "Name: count, dtype: int64"
      ]
     },
     "metadata": {},
     "output_type": "display_data"
    },
    {
     "name": "stdout",
     "output_type": "stream",
     "text": [
      "La columna SELLER tiene un total de 2 valores distintos\n",
      "Los 10 valores más repetidos son:\n"
     ]
    },
    {
     "data": {
      "text/plain": [
       "seller\n",
       "private       364901\n",
       "commercial         3\n",
       "Name: count, dtype: int64"
      ]
     },
     "metadata": {},
     "output_type": "display_data"
    },
    {
     "name": "stdout",
     "output_type": "stream",
     "text": [
      "La columna OFFERTYPE tiene un total de 2 valores distintos\n",
      "Los 10 valores más repetidos son:\n"
     ]
    },
    {
     "data": {
      "text/plain": [
       "offerType\n",
       "offer      364892\n",
       "request        12\n",
       "Name: count, dtype: int64"
      ]
     },
     "metadata": {},
     "output_type": "display_data"
    },
    {
     "name": "stdout",
     "output_type": "stream",
     "text": [
      "La columna VEHICLETYPE tiene un total de 7 valores distintos\n",
      "Los 10 valores más repetidos son:\n"
     ]
    },
    {
     "data": {
      "text/plain": [
       "vehicleType\n",
       "small car      78621\n",
       "combi          66264\n",
       "bus            29640\n",
       "convertible    22592\n",
       "coupe          18757\n",
       "suv            14249\n",
       "other           3319\n",
       "Name: count, dtype: int64"
      ]
     },
     "metadata": {},
     "output_type": "display_data"
    },
    {
     "name": "stdout",
     "output_type": "stream",
     "text": [
      "La columna GEARBOX tiene un total de 2 valores distintos\n",
      "Los 10 valores más repetidos son:\n"
     ]
    },
    {
     "data": {
      "text/plain": [
       "gearbox\n",
       "manually     269737\n",
       "automatic     75361\n",
       "Name: count, dtype: int64"
      ]
     },
     "metadata": {},
     "output_type": "display_data"
    },
    {
     "name": "stdout",
     "output_type": "stream",
     "text": [
      "La columna MODEL tiene un total de 251 valores distintos\n",
      "Los 10 valores más repetidos son:\n"
     ]
    },
    {
     "data": {
      "text/plain": [
       "model\n",
       "golf        29539\n",
       "andere      26078\n",
       "3er         20286\n",
       "polo        12930\n",
       "corsa       12360\n",
       "astra       10595\n",
       "passat      10077\n",
       "a4          10026\n",
       "c_klasse     8605\n",
       "5er          8315\n",
       "Name: count, dtype: int64"
      ]
     },
     "metadata": {},
     "output_type": "display_data"
    },
    {
     "name": "stdout",
     "output_type": "stream",
     "text": [
      "La columna FUELTYPE tiene un total de 7 valores distintos\n",
      "Los 10 valores más repetidos son:\n"
     ]
    },
    {
     "data": {
      "text/plain": [
       "fuelType\n",
       "petrol     220299\n",
       "diesel     105088\n",
       "lpg          5287\n",
       "cng           561\n",
       "hybrid        275\n",
       "other         207\n",
       "electro       103\n",
       "Name: count, dtype: int64"
      ]
     },
     "metadata": {},
     "output_type": "display_data"
    },
    {
     "name": "stdout",
     "output_type": "stream",
     "text": [
      "La columna BRAND tiene un total de 40 valores distintos\n",
      "Los 10 valores más repetidos son:\n"
     ]
    },
    {
     "data": {
      "text/plain": [
       "brand\n",
       "volkswagen       78227\n",
       "bmw              39567\n",
       "opel             39359\n",
       "mercedes_benz    34681\n",
       "audi             32144\n",
       "ford             25092\n",
       "renault          17651\n",
       "peugeot          10805\n",
       "fiat              9511\n",
       "seat              6908\n",
       "Name: count, dtype: int64"
      ]
     },
     "metadata": {},
     "output_type": "display_data"
    },
    {
     "name": "stdout",
     "output_type": "stream",
     "text": [
      "La columna NOTREPAIREDDAMAGE tiene un total de 2 valores distintos\n",
      "Los 10 valores más repetidos son:\n"
     ]
    },
    {
     "data": {
      "text/plain": [
       "notRepairedDamage\n",
       "no     258291\n",
       "yes     35837\n",
       "Name: count, dtype: int64"
      ]
     },
     "metadata": {},
     "output_type": "display_data"
    }
   ],
   "source": [
    "for col in col_cat:\n",
    " print(f\"La columna {col.upper()} tiene un total de {df[col].nunique()} valores distintos\")\n",
    " print(f\"Los 10 valores más repetidos son:\")\n",
    " display(df[col].value_counts().head(10))"
   ]
  },
  {
   "cell_type": "code",
   "execution_count": 24,
   "id": "a4e007fb",
   "metadata": {},
   "outputs": [
    {
     "data": {
      "text/plain": [
       "fuelType\n",
       "petrol     66.391116\n",
       "diesel     31.670183\n",
       "lpg         1.593334\n",
       "cng         0.169068\n",
       "hybrid      0.082876\n",
       "other       0.062383\n",
       "electro     0.031041\n",
       "Name: proportion, dtype: float64"
      ]
     },
     "execution_count": 24,
     "metadata": {},
     "output_type": "execute_result"
    }
   ],
   "source": [
    "# si quieres ver un porcentaje en el value_counts se puede hacer:\n",
    "df['fuelType'].value_counts(normalize=True) * 100"
   ]
  },
  {
   "cell_type": "markdown",
   "id": "0a58911c",
   "metadata": {},
   "source": [
    "### Countplot"
   ]
  },
  {
   "cell_type": "code",
   "execution_count": null,
   "id": "eced2b73",
   "metadata": {},
   "outputs": [
    {
     "name": "stdout",
     "output_type": "stream",
     "text": [
      "La columna name tiene demasiadas categorías:233531 \n"
     ]
    },
    {
     "data": {
      "image/png": "[encoded data removed]",
      "text/plain": [
       "<Figure size 200x300 with 1 Axes>"
      ]
     },
     "metadata": {},
     "output_type": "display_data"
    },
    {
     "data": {
      "image/png": "[encoded data removed]",
      "text/plain": [
       "<Figure size 200x300 with 1 Axes>"
      ]
     },
     "metadata": {},
     "output_type": "display_data"
    },
    {
     "data": {
      "image/png": "[encoded data removed]",
      "text/plain": [
       "<Figure size 700x300 with 1 Axes>"
      ]
     },
     "metadata": {},
     "output_type": "display_data"
    },
    {
     "data": {
      "image/png": "[encoded data removed]",
      "text/plain": [
       "<Figure size 200x300 with 1 Axes>"
      ]
     },
     "metadata": {},
     "output_type": "display_data"
    },
    {
     "name": "stdout",
     "output_type": "stream",
     "text": [
      "La columna model tiene demasiadas categorías:251 \n"
     ]
    },
    {
     "data": {
      "image/png": "[encoded data removed]",
      "text/plain": [
       "<Figure size 700x300 with 1 Axes>"
      ]
     },
     "metadata": {},
     "output_type": "display_data"
    },
    {
     "data": {
      "image/png": "[encoded data removed]",
      "text/plain": [
       "<Figure size 4000x300 with 1 Axes>"
      ]
     },
     "metadata": {},
     "output_type": "display_data"
    },
    {
     "data": {
      "image/png": "[encoded data removed]",
      "text/plain": [
       "<Figure size 200x300 with 1 Axes>"
      ]
     },
     "metadata": {},
     "output_type": "display_data"
    }
   ],
   "source": [
    "for col in col_cat:\n",
    "  if df[col].nunique() > 200:\n",
    "   print(f\"La columna {col.upper()} tiene demasiadas categorías:{df[col].nunique()} \")\n",
    "   continue\n",
    "  plt.figure(figsize=(df[col].nunique() ,3)) # ajusto el ancho al nº de categorías\n",
    "  sns.countplot(x=df[col], order=df[col].value_counts().index)\n",
    "  plt.show()"
   ]
  }
 ],
 "metadata": {
  "kernelspec": {
   "display_name": "Python 3",
   "language": "python",
   "name": "python3"
  },
  "language_info": {
   "codemirror_mode": {
    "name": "ipython",
    "version": 3
   },
   "file_extension": ".py",
   "mimetype": "text/x-python",
   "name": "python",
   "nbconvert_exporter": "python",
   "pygments_lexer": "ipython3",
   "version": "3.12.6"
  }
 },
 "nbformat": 4,
 "nbformat_minor": 5
}
